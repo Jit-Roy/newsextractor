{
 "cells": [
  {
   "cell_type": "markdown",
   "id": "3b10575b",
   "metadata": {},
   "source": [
    "# NewsExtractor Demo\n",
    "\n",
    "This notebook demonstrates the use of the `NewsExtractor` library to extract and analyze news articles. "
   ]
  },
  {
   "cell_type": "markdown",
   "id": "5c97c3fe",
   "metadata": {},
   "source": [
    "### 1. Installation\n",
    "\n",
    "First, let's install the necessary libraries."
   ]
  },
  {
   "cell_type": "code",
   "execution_count": null,
   "id": "b7739505",
   "metadata": {},
   "outputs": [],
   "source": [
    "!pip install -r requirements.txt\n",
    "!python -m spacy download en_core_web_sm"
   ]
  },
  {
   "cell_type": "markdown",
   "id": "6b052370",
   "metadata": {},
   "source": [
    "### 2. Basic Article Extraction\n",
    "\n",
    "Here's how to extract a single article from a URL."
   ]
  },
  {
   "cell_type": "code",
   "execution_count": 23,
   "id": "e1154c80",
   "metadata": {},
   "outputs": [
    {
     "name": "stdout",
     "output_type": "stream",
     "text": [
      "📰 CORE ARTICLE DATA:\n",
      "  Article ID: article_64ac505ad950\n",
      "  Title: Ready-made stem cell therapies for pets could be coming\n",
      "  Author: Connie Loizos\n",
      "  URL: https://techcrunch.com/2025/07/04/ready-made-stem-cell-therapies-for-pets-could-be-coming/\n",
      "  Published Date: 2025-07-04 23:36:00+00:00\n",
      "  Word Count: 265\n",
      "  Reading Time: 1 minutes\n",
      "  Top Image: https://techcrunch.com/wp-content/uploads/2024/10/GettyImages-1357481031.jpg?resize=1200,900\n",
      "\n",
      "🔍 CATEGORIZATION (Reliable):\n",
      "  Source: techcrunch.com\n",
      "\n",
      "👥 NAMED ENTITIES FOUND:\n",
      "  PERSON: Gallant, Aaron Hirschhorn, Linda Black\n",
      "  ORG: FDA, Gallant’s, Feline Chronic Gingivostomatitis, FCGS, Digitalis Ventures\n",
      "  GPE: San Diego\n",
      "  MONEY: $18 million, at least $44 million\n",
      "  DATE: Earlier this week, decades, Seven-year-old, early 2026, up to two years\n",
      "\n",
      "🧠 ANALYSIS (AI-Powered):\n",
      "  Language: en\n",
      "  Sentiment: {'compound': 0.9762, 'positive': 0.11, 'negative': 0.014, 'neutral': 0.876, 'polarity': 0.05665584415584417, 'subjectivity': 0.3983766233766234, 'label': 'positive'}\n",
      "  Summary: Earlier this week, San Diego startup Gallant announced $18 million in funding to bring the first FDA-approved ready-to-use stem cell therapy to veterinary medicine. Most stem cell treatments today require harvesting cells from the patient or donors with matching tissue, whereas Gallant’s therapy uses ready-to-use cells from donor animals, even if they are a different species. The funding round was led by existing backer Digitalis Ventures, with participation from NovaQuest Capital Management, which previously invested in the first FDA-approved human stem cell therapy.\n",
      "\n",
      "📊 ADDITIONAL METADATA:\n",
      "  Publication Name: TechCrunch\n",
      "  Meta Description: Earlier this week, San Diego startup Gallant announced $18 million in funding to bring the first FDA-approved ready-to-use stem cell therapy to veterinary\n",
      "  Canonical Link: https://techcrunch.com/2025/07/04/ready-made-stem-cell-therapies-for-pets-could-be-coming/\n",
      "  Image URLs: 0 images\n",
      "  Video URLs: 0 videos\n",
      "  Links: 5 external links\n",
      "  Is Paywalled: False\n"
     ]
    }
   ],
   "source": [
    "# Clean extraction with only reliable properties\n",
    "import sys\n",
    "import os\n",
    "\n",
    "# Add the project root to Python path\n",
    "sys.path.append(os.path.abspath(os.path.join(os.getcwd(), os.pardir)))\n",
    "\n",
    "from core.news_extractor import NewsExtractor\n",
    "\n",
    "# Create extractor with NLP enabled for AI-powered features\n",
    "extractor = NewsExtractor(enable_nlp=True)\n",
    "\n",
    "# Extract article from URL\n",
    "article = extractor.extract_from_url(\"https://techcrunch.com/2025/07/04/ready-made-stem-cell-therapies-for-pets-could-be-coming/\")\n",
    "\n",
    "print(\"📰 CORE ARTICLE DATA:\")\n",
    "print(f\"  Article ID: {article.article_id}\")\n",
    "print(f\"  Title: {article.title}\")\n",
    "print(f\"  Author: {article.author}\")\n",
    "print(f\"  URL: {article.url}\")\n",
    "print(f\"  Published Date: {article.published_date}\")\n",
    "print(f\"  Word Count: {article.word_count}\")\n",
    "print(f\"  Reading Time: {article.read_time} minutes\")\n",
    "print(f\"  Top Image: {article.top_image}\")\n",
    "\n",
    "print(f\"\\n🔍 CATEGORIZATION (Reliable):\")\n",
    "print(f\"  Source: {article.source}\")\n",
    "print(f\"\\n👥 NAMED ENTITIES FOUND:\")\n",
    "for entity_type, entities in article.entities.items():\n",
    "    if entities: \n",
    "        print(f\"  {entity_type}: {', '.join(entities)}\")\n",
    "\n",
    "print(f\"\\n🧠 ANALYSIS (AI-Powered):\")\n",
    "print(f\"  Language: {article.language}\")\n",
    "print(f\"  Sentiment: {article.sentiment}\")\n",
    "print(f\"  Summary: {article.nlp_summary}\")\n",
    "\n",
    "print(f\"\\n📊 ADDITIONAL METADATA:\")\n",
    "print(f\"  Publication Name: {article.publication_name}\")\n",
    "print(f\"  Meta Description: {article.meta_description}\")\n",
    "print(f\"  Canonical Link: {article.canonical_link}\")\n",
    "print(f\"  Image URLs: {len(article.image_urls)} images\")\n",
    "print(f\"  Video URLs: {len(article.video_urls)} videos\")\n",
    "print(f\"  Links: {len(article.links)} external links\")\n",
    "print(f\"  Is Paywalled: {article.is_paywalled}\")"
   ]
  },
  {
   "cell_type": "markdown",
   "id": "c0e71675",
   "metadata": {},
   "source": [
    "### 3. Advanced NLP Processing\n",
    "\n",
    "Enable NLP to get keywords, sentiment, and a summary."
   ]
  },
  {
   "cell_type": "code",
   "execution_count": 26,
   "id": "a9bd969e",
   "metadata": {},
   "outputs": [
    {
     "name": "stdout",
     "output_type": "stream",
     "text": [
      "😊 Sentiment: positive (0.98)\n",
      "👤 Named Entities by Type:\n",
      "   PERSON: Gallant, Aaron Hirschhorn, Linda Black\n",
      "   ORG: FDA, Gallant’s, Feline Chronic Gingivostomatitis, FCGS, Digitalis Ventures\n",
      "   GPE: San Diego\n",
      "   MONEY: $18 million, at least $44 million\n",
      "   DATE: Earlier this week, decades, Seven-year-old, early 2026, up to two years\n",
      "📝 Summary: Earlier this week, San Diego startup Gallant announced $18 million in funding to bring the first FDA-approved ready-to-use stem cell therapy to veterinary medicine. If it passes regulatory muster, it could create a whole new way to treat our fur babies. It’s still an experimental field, even though people have been researching stem cells for humans for decades.\n",
      "🌐 Language: en\n"
     ]
    }
   ],
   "source": [
    "from core.news_extractor import NewsExtractor\n",
    "\n",
    "# Enable NLP processing and set the summarization method\n",
    "# Options are: 'auto', 'sumy', 'transformers', 'simple'\n",
    "extractor = NewsExtractor(enable_nlp=True, summarization_method='simple')\n",
    "article = extractor.extract_from_url(\"https://techcrunch.com/2025/07/04/ready-made-stem-cell-therapies-for-pets-could-be-coming\")\n",
    "\n",
    "# Access NLP results (reliable metadata only)\n",
    "print(f\"😊 Sentiment: {article.sentiment['label']} ({article.sentiment['compound']:.2f})\")\n",
    "print(f\"👤 Named Entities by Type:\")\n",
    "for entity_type, entities in article.entities.items():\n",
    "    if entities:  # Only show non-empty entity types\n",
    "        print(f\"   {entity_type}: {', '.join(entities)}\")\n",
    "print(f\"📝 Summary: {article.nlp_summary}\")\n",
    "print(f\"🌐 Language: {article.language}\")"
   ]
  },
  {
   "cell_type": "markdown",
   "id": "0fd1a93d",
   "metadata": {},
   "source": [
    "### 4. Language-Specific Processing\n",
    "\n",
    "Test the NewsExtractor with Bengali language settings."
   ]
  },
  {
   "cell_type": "code",
   "execution_count": 35,
   "id": "8d05086e",
   "metadata": {},
   "outputs": [
    {
     "name": "stdout",
     "output_type": "stream",
     "text": [
      "🇧🇩 BENGALI LANGUAGE PROCESSING:\n",
      "Target Language Setting: bn (Bengali)\n",
      "\n",
      "📰 CORE ARTICLE DATA:\n",
      "  Article ID: article_d0effad4258e\n",
      "  Title: পোষা প্রাণীদের জন্য রেডিমেড স্টেম সেল থেরাপি আসতে পারে\n",
      "  Author: Connie Loizos\n",
      "  URL: https://techcrunch.com/2025/07/04/ready-made-stem-cell-therapies-for-pets-could-be-coming/\n",
      "  Published Date: 2025-07-04 23:36:00+00:00\n",
      "  Word Count: 271\n",
      "  Reading Time: 1 minutes\n",
      "  Top Image: https://techcrunch.com/wp-content/uploads/2024/10/GettyImages-1357481031.jpg?resize=1200,900\n",
      "\n",
      "🔍 CATEGORIZATION (Reliable):\n",
      "  Source: techcrunch.com\n",
      "\n",
      "👥 NAMED ENTITIES FOUND:\n",
      "  PERSON: শুরুতে, জন্য প্রস্তুত স্টেম, পারে, সুবিধা দুই, স্থায়ী\n",
      "  ORG: করতে, বয়সী গ্যালান্টের প্রথম, মধ্যে, উত্সাহজনক প্রাথমিক ফলাফল দেখিয়েছে, বাতজনিত\n",
      "  GPE: প্রথম\n",
      "  DATE: 2021\n",
      "  PRODUCT: এখনও একটি পরীক্ষামূলক ক্ষেত্র, গ্যালান্ট বলেছেন, ২০২26, দেখিয়েছিল\n",
      "\n",
      "🧠 ANALYSIS (AI-Powered):\n",
      "  Detected Language: en\n",
      "  Translation Status: Translated\n",
      "  Sentiment: {'compound': 0.0, 'positive': 0.0, 'negative': 0.0, 'neutral': 1.0, 'polarity': 0.0, 'subjectivity': 0.0, 'label': 'neutral'}\n",
      "  Summary: এই সপ্তাহের শুরুতে, সান দিয়েগো স্টার্টআপ গ্যালান্ট ভেটেরিনারি মেডিসিনে প্রথম এফডিএ-অনুমোদিত ব্যবহারের জন্য প্রস্তুত স্টেম সেল থেরাপি আনতে 18 মিলিয়ন ডলার তহবিল ঘোষণা করেছিল। যদি এটি নিয়ামক মাস্টার পাস করে তবে এটি আমাদের পশম বাচ্চাদের চিকিত্সার জন্য সম্পূর্ণ নতুন উপায় তৈরি করতে পারে।\n",
      "\n",
      "এটি এখনও একটি পরীক্ষামূলক ক্ষেত্র, যদিও লোকেরা কয়েক দশক ধরে মানুষের জন্য স্টেম সেল নিয়ে গবেষণা করে চলেছে। সাত বছর বয়সী গ্যালান্টের প্রথম লক্ষ্য হ'ল বিড়ালদের মধ্যে একটি বেদনাদায়ক মুখের অবস্থা যা সেলিন ক্রনিক জিঙ্গিভোস্টোমাটাইটিস (এফসিজিএস) নামে পরিচিত, যা গ্যালান্ট বলেছেন যে ২০২26 সালের প্রথম দিকে এফডিএ অনুমোদন পেতে পারে।\n",
      "\n",
      "ক্ষেত্রটি কিছু উত্সাহজনক প্রাথমিক ফলাফল দেখিয়েছে। বাতজনিত কুকুরের উপর অধ্যয়নগুলি ব্যথা এবং গতিশীলতার উন্নতি দেখিয়েছিল, কিছু সুবিধা দুই বছর অবধি স্থায়ী হয়। কিন্তু যখন গবেষকরা বিড়ালগুলিতে কিডনি রোগের জন্য একই ধরণের চিকিত্সা করার চেষ্টা করেছিলেন - এটি অন্য একটি শর্ত যে গ্যালান্ট মোকাবেলা করতে চায় - ফলাফলগুলি আরও মিশ্রিত হয়েছিল।\n",
      "\n",
      "গ্যালান্টের পদ্ধতির কী কী আলাদা করে তোলে তা হ'ল সুবিধা। বেশিরভাগ স্টেম সেল চিকিত্সার জন্য আজ ম্যাচিং টিস্যু সহ রোগী বা দাতাদের কাছ থেকে ফসল কাটা কোষগুলির প্রয়োজন হয়, অন্যদিকে গ্যালান্টের থেরাপি দাতার প্রাণীদের কাছ থেকে প্রস্তুত-ব্যবহারের কোষ ব্যবহার করে, এমনকি তারা আলাদা প্রজাতি হলেও।\n",
      "\n",
      "বিনিয়োগকারীরা এখানে স্পষ্টভাবে সম্ভাবনা দেখেন। ফান্ডিং রাউন্ডের নেতৃত্বে ছিল বিদ্যমান ব্যাকার ডিজিটালিস ভেঞ্চারস, নোভাকুয়েস্ট ক্যাপিটাল ম্যানেজমেন্টের অংশগ্রহণের সাথে, যা আগে প্রথম এফডিএ-অনুমোদিত মানব স্টেম সেল থেরাপিতে বিনিয়োগ করেছিল।\n",
      "\n",
      "সংস্থার একটি আকর্ষণীয় ব্যাকস্টোরি রয়েছে। গ্যালান্টের প্রতিষ্ঠাতা, অ্যারন হির্সহর্ন, এর আগে কুকুর-বসার মার্কেটপ্লেস, রোভারের সবচেয়ে বড় প্রতিদ্বন্দ্বীর কাছে ডগভ্যাকাকে বিক্রি করেছিলেন। হিরশহর্ন 2021 সালে মারা গেলেন; গ্যালান্টের নেতৃত্বে এখন লিন্ডা ব্ল্যাক, যিনি প্রায় শুরু থেকেই এর সভাপতি এবং প্রধান বৈজ্ঞানিক কর্মকর্তা হিসাবে যোগদান করেছিলেন। গ্যালান্ট এখন বিনিয়োগকারীদের কাছ থেকে কমপক্ষে 44 মিলিয়ন ডলার সংগ্রহ করেছে।.\n",
      "\n",
      "📊 ADDITIONAL METADATA:\n",
      "  Publication Name: TechCrunch\n",
      "  Meta Description: Earlier this week, San Diego startup Gallant announced $18 million in funding to bring the first FDA-approved ready-to-use stem cell therapy to veterinary\n",
      "  Canonical Link: https://techcrunch.com/2025/07/04/ready-made-stem-cell-therapies-for-pets-could-be-coming/\n",
      "  Image URLs: 0 images\n",
      "  Video URLs: 0 videos\n",
      "  Links: 5 external links\n",
      "  Is Paywalled: False\n"
     ]
    }
   ],
   "source": [
    "from core.news_extractor import NewsExtractor\n",
    "\n",
    "# Create extractor with Bengali language setting\n",
    "extractor_bengali = NewsExtractor(\n",
    "    enable_nlp=True, \n",
    "    language='bn',  # Bengali language code\n",
    "    summarization_method='simple'\n",
    ")\n",
    "\n",
    "# Extract article from URL with Bengali language processing\n",
    "test_article = extractor_bengali.extract_from_url(\"https://techcrunch.com/2025/07/04/ready-made-stem-cell-therapies-for-pets-could-be-coming/\")\n",
    "\n",
    "print(\"🇧🇩 BENGALI LANGUAGE PROCESSING:\")\n",
    "print(f\"Target Language Setting: bn (Bengali)\")\n",
    "\n",
    "print(\"\\n📰 CORE ARTICLE DATA:\")\n",
    "print(f\"  Article ID: {test_article.article_id}\")\n",
    "print(f\"  Title: {test_article.title}\")\n",
    "print(f\"  Author: {test_article.author}\")\n",
    "print(f\"  URL: {test_article.url}\")\n",
    "print(f\"  Published Date: {test_article.published_date}\")\n",
    "print(f\"  Word Count: {test_article.word_count}\")\n",
    "print(f\"  Reading Time: {test_article.read_time} minutes\")\n",
    "print(f\"  Top Image: {test_article.top_image}\")\n",
    "\n",
    "print(f\"\\n🔍 CATEGORIZATION (Reliable):\")\n",
    "print(f\"  Source: {test_article.source}\")\n",
    "print(f\"\\n👥 NAMED ENTITIES FOUND:\")\n",
    "for entity_type, entities in test_article.entities.items():\n",
    "    if entities: \n",
    "        print(f\"  {entity_type}: {', '.join(entities)}\")\n",
    "\n",
    "print(f\"\\n🧠 ANALYSIS (AI-Powered):\")\n",
    "print(f\"  Detected Language: {test_article.language}\")\n",
    "print(f\"  Translation Status: {'Translated' if test_article.translated else 'Original'}\")\n",
    "print(f\"  Sentiment: {test_article.sentiment}\")\n",
    "print(f\"  Summary: {test_article.nlp_summary}\")\n",
    "\n",
    "print(f\"\\n📊 ADDITIONAL METADATA:\")\n",
    "print(f\"  Publication Name: {test_article.publication_name}\")\n",
    "print(f\"  Meta Description: {test_article.meta_description}\")\n",
    "print(f\"  Canonical Link: {test_article.canonical_link}\")\n",
    "print(f\"  Image URLs: {len(test_article.image_urls)} images\")\n",
    "print(f\"  Video URLs: {len(test_article.video_urls)} videos\")\n",
    "print(f\"  Links: {len(test_article.links)} external links\")\n",
    "print(f\"  Is Paywalled: {test_article.is_paywalled}\")"
   ]
  },
  {
   "cell_type": "markdown",
   "id": "8250c27e",
   "metadata": {},
   "source": [
    "### 5. Extracting from an RSS Feed\n",
    "\n",
    "You can also extract all articles from an RSS feed."
   ]
  },
  {
   "cell_type": "code",
   "execution_count": 32,
   "id": "b21b79b9",
   "metadata": {},
   "outputs": [
    {
     "name": "stdout",
     "output_type": "stream",
     "text": [
      "📰 Ready-made stem cell therapies for pets could be coming\n",
      "👥 Entities: {'PERSON': ['Gallant', 'Aaron Hirschhorn', 'Linda Black'], 'ORG': ['FDA', 'Gallant’s', 'Feline Chronic Gingivostomatitis', 'FCGS', 'Digitalis Ventures'], 'GPE': ['San Diego'], 'MONEY': ['$18 million', 'at least $44 million'], 'DATE': ['Earlier this week', 'decades', 'Seven-year-old', 'early 2026', 'up to two years'], 'EVENT': [], 'PRODUCT': []}\n",
      "📝 Summary: Earlier this week, San Diego startup Gallant announced $18 million in funding to bring the first FDA-approved ready-to-use stem cell therapy to veterinary medicine. Most stem cell treatments today require harvesting cells from the patient or donors with matching tissue, whereas Gallant’s therapy uses ready-to-use cells from donor animals, even if they are a different species. The funding round was led by existing backer Digitalis Ventures, with participation from NovaQuest Capital Management, which previously invested in the first FDA-approved human stem cell therapy.\n",
      "--------------------------------------------------\n",
      "📰 Microsoft is closing its local operations in Pakistan\n",
      "👥 Entities: {'PERSON': ['Jawwad Rehman', 'Rehman'], 'ORG': ['Microsoft', 'TechCrunch', 'Information and Broadcasting Ministry', 'the Redmond company’s', 'Precursor Ventures'], 'GPE': ['Pakistan', 'India', 'Ireland', 'LinkedIn'], 'MONEY': ['450', '$10.5 million'], 'DATE': ['25-year', 'Friday', 'Earlier this week', 'the past few years', 'a day'], 'EVENT': [], 'PRODUCT': ['VC']}\n",
      "📝 Summary: The decision will impact five Microsoft employees in Pakistan, according to sources who talked with TechCrunch; they add that Microsoft did not have any engineering resources in Pakistan, unlike India and other growing markets, and had its employees sell Azure and Office products in the country. “We will continue to engage Microsoft’s regional and global leadership to ensure that any structural changes strengthen, rather than diminish, Microsoft’s long-term commitment to Pakistani customers, developers and channel partners,” the ministry noted. The move stands in particularly stark contrast to Google, which disclosed a $10.5 million investment in the country’s public education sector last year and is also considering Pakistan as a market to produce half a million Chromebooks by 2026.\n",
      "--------------------------------------------------\n"
     ]
    }
   ],
   "source": [
    "from core.news_extractor import NewsExtractor\n",
    "\n",
    "extractor = NewsExtractor()\n",
    "articles = extractor.extract_from_rss_feed(\"https://techcrunch.com/feed/\")\n",
    "\n",
    "# Extract full content for each article from RSS\n",
    "for article in articles[:2]:\n",
    "    full_article = extractor.extract_from_url(article.url)\n",
    "    print(f\"📰 {full_article.title}\")\n",
    "    print(f\"👥 Entities: {full_article.entities}\")\n",
    "    print(f\"📝 Summary: {full_article.nlp_summary}\")\n",
    "    print(\"-\" * 50)"
   ]
  },
  {
   "cell_type": "markdown",
   "id": "d767e574",
   "metadata": {},
   "source": [
    "### 6. Getting Trending News\n",
    "\n",
    "You can get trending news topics. **Note:** This requires a SerpAPI key."
   ]
  },
  {
   "cell_type": "code",
   "execution_count": null,
   "id": "a5189b50",
   "metadata": {},
   "outputs": [
    {
     "name": "stderr",
     "output_type": "stream",
     "text": [
      "d:\\Python\\Lib\\site-packages\\tqdm\\auto.py:21: TqdmWarning: IProgress not found. Please update jupyter and ipywidgets. See https://ipywidgets.readthedocs.io/en/stable/user_install.html\n",
      "  from .autonotebook import tqdm as notebook_tqdm\n",
      "Attempt 1 failed for https://www.deccanherald.com/india/karnataka/bengaluru/trending-b-luru-youth-join-fake-shaadi-party-scene-3611580: 403 Client Error: Forbidden for url: https://www.deccanherald.com/india/karnataka/bengaluru/trending-b-luru-youth-join-fake-shaadi-party-scene-3611580\n",
      "Attempt 1 failed for https://www.deccanherald.com/india/karnataka/bengaluru/trending-b-luru-youth-join-fake-shaadi-party-scene-3611580: 403 Client Error: Forbidden for url: https://www.deccanherald.com/india/karnataka/bengaluru/trending-b-luru-youth-join-fake-shaadi-party-scene-3611580\n",
      "Attempt 2 failed for https://www.deccanherald.com/india/karnataka/bengaluru/trending-b-luru-youth-join-fake-shaadi-party-scene-3611580: 403 Client Error: Forbidden for url: https://www.deccanherald.com/india/karnataka/bengaluru/trending-b-luru-youth-join-fake-shaadi-party-scene-3611580\n",
      "Attempt 2 failed for https://www.deccanherald.com/india/karnataka/bengaluru/trending-b-luru-youth-join-fake-shaadi-party-scene-3611580: 403 Client Error: Forbidden for url: https://www.deccanherald.com/india/karnataka/bengaluru/trending-b-luru-youth-join-fake-shaadi-party-scene-3611580\n",
      "Failed to extract single article from https://www.deccanherald.com/india/karnataka/bengaluru/trending-b-luru-youth-join-fake-shaadi-party-scene-3611580: Failed to fetch URL after 3 attempts: 403 Client Error: Forbidden for url: https://www.deccanherald.com/india/karnataka/bengaluru/trending-b-luru-youth-join-fake-shaadi-party-scene-3611580\n",
      "Failed to extract from https://www.deccanherald.com/india/karnataka/bengaluru/trending-b-luru-youth-join-fake-shaadi-party-scene-3611580: Failed to extract article: Failed to fetch URL after 3 attempts: 403 Client Error: Forbidden for url: https://www.deccanherald.com/india/karnataka/bengaluru/trending-b-luru-youth-join-fake-shaadi-party-scene-3611580\n",
      "Failed to extract article from https://www.deccanherald.com/india/karnataka/bengaluru/trending-b-luru-youth-join-fake-shaadi-party-scene-3611580: Failed to extract: Failed to extract article: Failed to fetch URL after 3 attempts: 403 Client Error: Forbidden for url: https://www.deccanherald.com/india/karnataka/bengaluru/trending-b-luru-youth-join-fake-shaadi-party-scene-3611580\n",
      "Failed to extract single article from https://www.deccanherald.com/india/karnataka/bengaluru/trending-b-luru-youth-join-fake-shaadi-party-scene-3611580: Failed to fetch URL after 3 attempts: 403 Client Error: Forbidden for url: https://www.deccanherald.com/india/karnataka/bengaluru/trending-b-luru-youth-join-fake-shaadi-party-scene-3611580\n",
      "Failed to extract from https://www.deccanherald.com/india/karnataka/bengaluru/trending-b-luru-youth-join-fake-shaadi-party-scene-3611580: Failed to extract article: Failed to fetch URL after 3 attempts: 403 Client Error: Forbidden for url: https://www.deccanherald.com/india/karnataka/bengaluru/trending-b-luru-youth-join-fake-shaadi-party-scene-3611580\n",
      "Failed to extract article from https://www.deccanherald.com/india/karnataka/bengaluru/trending-b-luru-youth-join-fake-shaadi-party-scene-3611580: Failed to extract: Failed to extract article: Failed to fetch URL after 3 attempts: 403 Client Error: Forbidden for url: https://www.deccanherald.com/india/karnataka/bengaluru/trending-b-luru-youth-join-fake-shaadi-party-scene-3611580\n"
     ]
    },
    {
     "name": "stdout",
     "output_type": "stream",
     "text": [
      "🔥 ‘Rs 20 lakh stolen in 60 seconds…’: Thieves hack parked car in under a minute in Delhi; owner shares CCTV footage of heist\n",
      "🔥 Who is Soham Parekh? The âIndian techieâ going viral on X and giving US start-up founders a headache\n",
      "🔥 These 7 stocks showed RSI Trending Up on July 3\n",
      "🔥 Ferrari worth Rs 7.5 crore seized in Bengaluru for road tax evasion; owner pays Rs 1.41 crore to RTO\n"
     ]
    }
   ],
   "source": [
    "import os\n",
    "from core.trending import NewsSearcher\n",
    "\n",
    "# Get API key from environment variable\n",
    "SERPAPI_KEY = os.getenv('SERPAPI_KEY', 'your-serpapi-key-here')\n",
    "\n",
    "if SERPAPI_KEY == 'your-serpapi-key-here':\n",
    "    print(\"⚠️  Please set your SERPAPI_KEY environment variable\")\n",
    "    print(\"   Example: set SERPAPI_KEY=your-actual-api-key\")\n",
    "    print(\"   Or create a .env file with SERPAPI_KEY=your-actual-api-key\")\n",
    "else:\n",
    "    searcher = NewsSearcher(serpapi_key=SERPAPI_KEY)\n",
    "    trending_articles = searcher.get_trending_news(limit=5)\n",
    "\n",
    "    for article in trending_articles:\n",
    "        print(f\"🔥 {article.title}\")"
   ]
  },
  {
   "cell_type": "markdown",
   "id": "3bf5a01d",
   "metadata": {},
   "source": [
    "### 6. Search For A Specific News\n",
    "\n",
    "You can get trending news topics. **Note:** This requires a SerpAPI key."
   ]
  },
  {
   "cell_type": "code",
   "execution_count": null,
   "id": "fdb28799",
   "metadata": {},
   "outputs": [
    {
     "name": "stderr",
     "output_type": "stream",
     "text": [
      "Attempt 1 failed for https://www.ndtv.com/opinion/why-a-world-war-iii-is-very-unlikely-8825232: 403 Client Error: Forbidden for url: https://www.ndtv.com/opinion/why-a-world-war-iii-is-very-unlikely-8825232\n",
      "Attempt 2 failed for https://www.ndtv.com/opinion/why-a-world-war-iii-is-very-unlikely-8825232: 403 Client Error: Forbidden for url: https://www.ndtv.com/opinion/why-a-world-war-iii-is-very-unlikely-8825232\n",
      "Attempt 2 failed for https://www.ndtv.com/opinion/why-a-world-war-iii-is-very-unlikely-8825232: 403 Client Error: Forbidden for url: https://www.ndtv.com/opinion/why-a-world-war-iii-is-very-unlikely-8825232\n",
      "Failed to extract single article from https://www.ndtv.com/opinion/why-a-world-war-iii-is-very-unlikely-8825232: Failed to fetch URL after 3 attempts: 403 Client Error: Forbidden for url: https://www.ndtv.com/opinion/why-a-world-war-iii-is-very-unlikely-8825232\n",
      "Failed to extract from https://www.ndtv.com/opinion/why-a-world-war-iii-is-very-unlikely-8825232: Failed to extract article: Failed to fetch URL after 3 attempts: 403 Client Error: Forbidden for url: https://www.ndtv.com/opinion/why-a-world-war-iii-is-very-unlikely-8825232\n",
      "Failed to extract article from https://www.ndtv.com/opinion/why-a-world-war-iii-is-very-unlikely-8825232: Failed to extract: Failed to extract article: Failed to fetch URL after 3 attempts: 403 Client Error: Forbidden for url: https://www.ndtv.com/opinion/why-a-world-war-iii-is-very-unlikely-8825232\n",
      "Failed to extract single article from https://www.ndtv.com/opinion/why-a-world-war-iii-is-very-unlikely-8825232: Failed to fetch URL after 3 attempts: 403 Client Error: Forbidden for url: https://www.ndtv.com/opinion/why-a-world-war-iii-is-very-unlikely-8825232\n",
      "Failed to extract from https://www.ndtv.com/opinion/why-a-world-war-iii-is-very-unlikely-8825232: Failed to extract article: Failed to fetch URL after 3 attempts: 403 Client Error: Forbidden for url: https://www.ndtv.com/opinion/why-a-world-war-iii-is-very-unlikely-8825232\n",
      "Failed to extract article from https://www.ndtv.com/opinion/why-a-world-war-iii-is-very-unlikely-8825232: Failed to extract: Failed to extract article: Failed to fetch URL after 3 attempts: 403 Client Error: Forbidden for url: https://www.ndtv.com/opinion/why-a-world-war-iii-is-very-unlikely-8825232\n"
     ]
    },
    {
     "name": "stdout",
     "output_type": "stream",
     "text": [
      "\n",
      "1. 📰 Iran Israel war: How close is World War 3?\n",
      "   🌐 Source: m.economictimes.com\n",
      "   📅 Published: 2025-07-05 09:08:42.839073\n",
      "   🔗 URL: https://m.economictimes.com/news/international/us/how-close-is-world-war-3-amidst-israel-iran-war/articleshow/121912720.cms\n",
      "   👥 Entities: PERSON: 3, ORG: 2, GPE: 5, DATE: 1, EVENT: 3\n",
      "   😊 Sentiment: negative\n",
      "\n",
      "2. 📰 How close are we to World War Three?\n",
      "   🌐 Source: theweek.com\n",
      "   📅 Published: 2018-04-17 08:48:49+00:00\n",
      "   🔗 URL: https://theweek.com/92967/are-we-heading-towards-world-war-3\n",
      "   👥 Entities: PERSON: 5, ORG: 5, GPE: 5, DATE: 5, EVENT: 3\n",
      "   😊 Sentiment: negative\n"
     ]
    }
   ],
   "source": [
    "import os\n",
    "from core.trending import NewsSearcher\n",
    "\n",
    "# Initialize the searcher with your SerpAPI key from environment\n",
    "SERPAPI_KEY = os.getenv('SERPAPI_KEY', 'your-serpapi-key-here')\n",
    "\n",
    "if SERPAPI_KEY == 'your-serpapi-key-here':\n",
    "    print(\"⚠️  Please set your SERPAPI_KEY environment variable\")\n",
    "    print(\"   Example: set SERPAPI_KEY=your-actual-api-key\")\n",
    "    print(\"   Or create a .env file with SERPAPI_KEY=your-actual-api-key\")\n",
    "else:\n",
    "    searcher = NewsSearcher(serpapi_key=SERPAPI_KEY)\n",
    "    articles = searcher.search_news_by_keyword(\"World War 3\", limit=3)\n",
    "\n",
    "    for i, article in enumerate(articles, 1):\n",
    "        print(f\"\\n{i}. 📰 {article.title}\")\n",
    "        print(f\"   🌐 Source: {article.source}\")\n",
    "        print(f\"   📅 Published: {article.published_date}\")\n",
    "        print(f\"   🔗 URL: {article.url}\")\n",
    "        \n",
    "        # Show entities if available\n",
    "        if article.entities:\n",
    "            entity_summary = []\n",
    "            for entity_type, entities in article.entities.items():\n",
    "                if entities:\n",
    "                    entity_summary.append(f\"{entity_type}: {len(entities)}\")\n",
    "            if entity_summary:\n",
    "                print(f\"   👥 Entities: {', '.join(entity_summary)}\")\n",
    "        \n",
    "        # Show sentiment if available\n",
    "        if article.sentiment:\n",
    "            sentiment_label = article.sentiment.get('label', 'N/A')\n",
    "            print(f\"   😊 Sentiment: {sentiment_label}\")"
   ]
  },
  {
   "cell_type": "code",
   "execution_count": null,
   "id": "ce4c3516",
   "metadata": {},
   "outputs": [],
   "source": []
  }
 ],
 "metadata": {
  "kernelspec": {
   "display_name": "Python 3",
   "language": "python",
   "name": "python3"
  },
  "language_info": {
   "codemirror_mode": {
    "name": "ipython",
    "version": 3
   },
   "file_extension": ".py",
   "mimetype": "text/x-python",
   "name": "python",
   "nbconvert_exporter": "python",
   "pygments_lexer": "ipython3",
   "version": "3.13.2"
  }
 },
 "nbformat": 4,
 "nbformat_minor": 5
}
